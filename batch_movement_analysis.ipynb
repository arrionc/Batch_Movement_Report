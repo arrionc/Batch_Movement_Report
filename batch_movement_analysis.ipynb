{
 "cells": [
  {
   "cell_type": "code",
   "execution_count": 8,
   "metadata": {},
   "outputs": [],
   "source": [
    "import os\n",
    "import pandas as pd\n",
    "from datetime import datetime\n",
    "import openpyxl\n",
    "from openpyxl.styles import PatternFill"
   ]
  },
  {
   "cell_type": "code",
   "execution_count": 9,
   "metadata": {},
   "outputs": [],
   "source": [
    "# Define Directories\n",
    "working_dir = r'C:\\Users\\ACarrion\\OneDrive - F.lli De Cecco di Filippo Fara San Martino S.p.A\\Documents\\Inventory\\WH Inventory Reports\\Working_files'\n",
    "output_dir = r'C:\\Users\\ACarrion\\OneDrive - F.lli De Cecco di Filippo Fara San Martino S.p.A\\Documents\\Inventory\\WH Inventory Reports\\Reports'\n",
    "\n",
    "# Get current date\n",
    "current_date = datetime.now().strftime(\"%Y-%m-%d\")\n",
    "\n",
    "# Find the current month's files \n",
    "files = [f for f in os.listdir(working_dir) if f.endswith(\".xlsx\")]\n",
    "\n",
    "# Read and combine data\n",
    "all_data = []\n",
    "for file in files:\n",
    "    file_path = os.path.join(working_dir,file)\n",
    "    try:\n",
    "        df = pd.read_excel(file_path, dtype={\"Batch\": str})\n",
    "        df['Source File'] = file\n",
    "        all_data.append(df[['Source File','Plant', 'Storage Location', 'Material', 'Description', 'Batch', 'Qty_SAP', 'Qty_WH', 'Delta', 'QC Hold Qty PSS', 'Hold Reason ES3',\n",
    "                            'Manufacture Date', 'Critical Shelf Life Date', 'Expiration date', 'Number of Summers', 'Unit Value', 'Pallet number']])\n",
    "    except Exception as e:\n",
    "        print(f\"Failed to process {file}: {e}\")"
   ]
  },
  {
   "cell_type": "code",
   "execution_count": 11,
   "metadata": {},
   "outputs": [
    {
     "name": "stdout",
     "output_type": "stream",
     "text": [
      "Batch Movement Report generated: C:\\Users\\ACarrion\\OneDrive - F.lli De Cecco di Filippo Fara San Martino S.p.A\\Documents\\Inventory\\WH Inventory Reports\\Reports\\Batch_Movement_Report_2025-03-09.xlsx\n"
     ]
    }
   ],
   "source": [
    "# Combine into single DataFrame\n",
    "if all_data:\n",
    "    combined_df = pd.concat(all_data, ignore_index=True)\n",
    "\n",
    "    # Identify first and last quantities per batch\n",
    "    batch_movement = (\n",
    "        combined_df.groupby(['Plant', 'Material','Batch'])\n",
    "        .agg(First_Qty=('Qty_WH', 'first'), \n",
    "             Last_Qty=('Qty_WH', 'last'), \n",
    "             Expiration_Date=('Expiration date', 'first'),\n",
    "             Critical_Shelf_Life_Date =('Critical Shelf Life Date', 'first'),\n",
    "             Description = ('Description', 'first'),\n",
    "             Location = ('Storage Location', 'last')) # Add last storage location\n",
    "        .reset_index()\n",
    "    )\n",
    "\n",
    "    # Determine if quantity changed\n",
    "    batch_movement['Batch Movement'] = batch_movement.apply(\n",
    "        lambda row: 'Changed' if row['First_Qty'] != row['Last_Qty'] else 'Static', axis=1\n",
    "    )\n",
    "\n",
    "    # Split into tabs by Plant\n",
    "    plant_list = ['BP01', 'BP02', 'BP04', 'BP07']\n",
    "    output_path = os.path.join(output_dir, f\"Batch_Movement_Report_{current_date}.xlsx\")\n",
    "\n",
    "    with pd.ExcelWriter(output_path, engine='openpyxl') as writer:\n",
    "        for plant in plant_list:\n",
    "            plant_df = batch_movement[batch_movement['Plant'] == plant].copy()\n",
    "            if not plant_df.empty:\n",
    "                plant_df.sort_values(by=['Material', 'Expiration_Date'], ascending=[True, False], inplace=True)\n",
    "                plant_df.to_excel(writer, sheet_name=f\"{plant}\", index=False)\n",
    "            else:\n",
    "                # Create empty sheet if no data\n",
    "                pd.DataFrame(columns=['Plant', 'Location', 'Material', 'Description', 'Batch', 'First_Qty', 'Last_Qty', 'Expiration_Date', 'Critical_Shelf_Life_Date', 'Batch Movement']).to_excel(writer, sheet_name=f\"{plant}\", index=False)\n",
    "                \n",
    "\n",
    "    # Highlight changed batches\n",
    "    workbook = openpyxl.load_workbook(output_path)\n",
    "    highlight = PatternFill(start_color=\"FFFF00\", end_color='FFFF00', fill_type=\"solid\")\n",
    "\n",
    "    for sheet in workbook.sheetnames:\n",
    "        ws = workbook[sheet]\n",
    "        # Freeze Header row\n",
    "        ws.freeze_panes = 'A2'\n",
    "        # Apply Filters to the header row\n",
    "        ws.auto_filter.ref = ws.dimensions\n",
    "\n",
    "        for row in ws.iter_rows(min_row=2, max_col=10, values_only=False):\n",
    "            if row[9].value == 'Changed':\n",
    "                for cell in row:\n",
    "                    cell.fill = highlight\n",
    "\n",
    "    workbook.save(output_path)\n",
    "    workbook.close()\n",
    "    print(f\"Batch Movement Report generated: {output_path}\")\n",
    "else:\n",
    "    print(\"No data to process\")\n",
    "   "
   ]
  }
 ],
 "metadata": {
  "kernelspec": {
   "display_name": "base",
   "language": "python",
   "name": "python3"
  },
  "language_info": {
   "codemirror_mode": {
    "name": "ipython",
    "version": 3
   },
   "file_extension": ".py",
   "mimetype": "text/x-python",
   "name": "python",
   "nbconvert_exporter": "python",
   "pygments_lexer": "ipython3",
   "version": "3.12.4"
  }
 },
 "nbformat": 4,
 "nbformat_minor": 2
}
